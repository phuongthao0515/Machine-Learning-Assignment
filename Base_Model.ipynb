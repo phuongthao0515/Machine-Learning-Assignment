{
  "nbformat": 4,
  "nbformat_minor": 0,
  "metadata": {
    "colab": {
      "provenance": []
    },
    "kernelspec": {
      "name": "python3",
      "display_name": "Python 3"
    },
    "language_info": {
      "name": "python"
    }
  },
  "cells": [
    {
      "cell_type": "markdown",
      "source": [
        "#Libraries"
      ],
      "metadata": {
        "id": "NL2Mfg0sgMsm"
      }
    },
    {
      "cell_type": "code",
      "source": [
        "import tensorflow as tf\n",
        "from tensorflow.keras.layers import Layer, Dense, Dropout, LayerNormalization"
      ],
      "metadata": {
        "id": "BLk--5aHOZrm"
      },
      "execution_count": null,
      "outputs": []
    },
    {
      "cell_type": "markdown",
      "source": [
        "## Scaled Dot-Product Attention\n",
        "- Compute Q, K, and V:  \n",
        "  `Q = X * W_Q`  \n",
        "  `K = X * W_K`  \n",
        "  `V = X * W_V`\n",
        "\n",
        "- Calculate the attention scores:  \n",
        "  `A = softmax((Q * K.T) / sqrt(d_k))  # d_k = d_model / num_heads`\n",
        "\n",
        "- Compute the attention output:  \n",
        "  `C = A * V`\n",
        "\n",
        "\n"
      ],
      "metadata": {
        "id": "UTM9cu-xgPXb"
      }
    },
    {
      "cell_type": "code",
      "source": [
        "class ScaledDotProductAttention(Layer):\n",
        "  def __init__(self, d_model, num_heads):\n",
        "    super(ScaledDotProductAttention, self).__init__()\n",
        "    self.scaling_factor = tf.sqrt(tf.cast(d_model, tf.float32)/num_heads)\n",
        "\n",
        "  def call(self, Q, K, V, mask = None):\n",
        "    output = tf.matmul(Q,K,transpose_b = True) # Q*K^T\n",
        "    output = output/self.scaling_factor\n",
        "    if mask is not None:\n",
        "      output += (mask * -1e9)\n",
        "\n",
        "    output = tf.nn.softmax(output, axis = -1) #softmax\n",
        "    output = tf.matmul(output,V) #matmul\n",
        "    return output"
      ],
      "metadata": {
        "id": "bvYSCgqrOjVg"
      },
      "execution_count": null,
      "outputs": []
    },
    {
      "cell_type": "markdown",
      "source": [
        "## Multi-head Attention"
      ],
      "metadata": {
        "id": "ChMXhovwhctD"
      }
    },
    {
      "cell_type": "code",
      "source": [
        "class MultiHeadAttention(Layer):\n",
        "  def __init__(self, d_model, num_heads):\n",
        "    super(MultiHeadAttention, self).__init__()\n",
        "\n",
        "    self.num_heads = num_heads\n",
        "    self.d_model = d_model\n",
        "    self.attention = ScaledDotProductAttention(d_model, num_heads)\n",
        "\n",
        "    self.W_Q = Dense(d_model)\n",
        "    self.W_K = Dense(d_model)\n",
        "    self.W_V = Dense(d_model)\n",
        "    self.W_O = Dense(d_model)\n",
        "\n",
        "  def call(self, Q,K,V, mask = None):\n",
        "    Q = self.W_Q(Q)\n",
        "    K = self.W_K(K)\n",
        "    V = self.W_V(V)\n",
        "\n",
        "    attention_output = self.attention(Q,K,V,mask)\n",
        "    output = self.W_O(attention_output)\n",
        "    return output\n"
      ],
      "metadata": {
        "id": "1w4pmrbPPRf0"
      },
      "execution_count": null,
      "outputs": []
    },
    {
      "cell_type": "markdown",
      "source": [
        "## Feed Forward"
      ],
      "metadata": {
        "id": "EZPaRk9vhnlm"
      }
    },
    {
      "cell_type": "code",
      "source": [
        "class FeedForward(Layer):\n",
        "  def __init__(self, d_model, d_ff):\n",
        "    super(FeedForward, self).__init__()\n",
        "    self.dense1 = Dense(d_ff, activation='relu')\n",
        "    self.dense2 = Dense(d_model)\n",
        "\n",
        "  def call(self,x):\n",
        "    x = self.dense1(x)\n",
        "    x = self.dense2(x)\n",
        "    return x"
      ],
      "metadata": {
        "id": "bUrTCGlWSw0E"
      },
      "execution_count": null,
      "outputs": []
    },
    {
      "cell_type": "markdown",
      "source": [
        "## Encoder Layer"
      ],
      "metadata": {
        "id": "tz2B_tOLhxE5"
      }
    },
    {
      "cell_type": "code",
      "source": [
        "class EncoderLayer(Layer):\n",
        "  def __init__(self, d_model, num_heads, d_ff):\n",
        "    super(EncoderLayer, self).__init__()\n",
        "    self.multihead = MultiHeadAttention(d_model, num_heads)\n",
        "    self.feedforward = FeedForward(d_model, d_ff)\n",
        "\n",
        "    self.layernorm1 = LayerNormalization()\n",
        "    self.layernorm2 = LayerNormalization()\n",
        "\n",
        "  def call(self, x, mask = None):\n",
        "    attn_output = self.multihead(x,x,x,mask)\n",
        "    x = self.layernorm1(x)\n",
        "\n",
        "    ff_output = self.feedforward(x)\n",
        "    x = self.layernorm2(x)\n",
        "    return x"
      ],
      "metadata": {
        "id": "Ri0RBuf2TpAh"
      },
      "execution_count": null,
      "outputs": []
    },
    {
      "cell_type": "markdown",
      "source": [
        "## Decoder Layer"
      ],
      "metadata": {
        "id": "BLjR2qTrhyRZ"
      }
    },
    {
      "cell_type": "code",
      "source": [
        "class DecoderLayer(Layer):\n",
        "  def __init__(self, d_model, num_heads, d_ff):\n",
        "    super(DecoderLayer, self).__init__()\n",
        "\n",
        "    self.mha1 = MultiHeadAttention(d_model, num_heads)\n",
        "    self.mha2 = MultiHeadAttention(d_model, num_heads)\n",
        "    self.ff = FeedForward(d_model, d_ff)\n",
        "\n",
        "    self.layernorm1 = LayerNormalization()\n",
        "    self.layernorm2 = LayerNormalization()\n",
        "    self.layernorm3 = LayerNormalization()\n",
        "\n",
        "  def call(self, x, encoder_output, ahead_mask = None, padding_mask = None):\n",
        "    attention_output1 = self.mha1(x, x, x, ahead_mask)\n",
        "    x = self.layernorm1(x)\n",
        "\n",
        "    attention_output2 = self.mha2(x, encoder_output, encoder_output, padding_mask)\n",
        "    x = self.layernorm2(x)\n",
        "\n",
        "    ff_output = self.ff(x)\n",
        "    x = self.layernorm3(x)\n",
        "    return x\n"
      ],
      "metadata": {
        "id": "BSfrmQlFWadm"
      },
      "execution_count": null,
      "outputs": []
    },
    {
      "cell_type": "markdown",
      "source": [
        "## Sample"
      ],
      "metadata": {
        "id": "uK80oLAZh1AP"
      }
    },
    {
      "cell_type": "code",
      "source": [
        "d_model = 512  # Model dimension\n",
        "num_heads = 8  # Number of attention heads\n",
        "d_ff = 2048    # Feed-forward layer dimension\n",
        "seq_len = 10    # Length of the input sequence\n",
        "\n",
        "input_data = tf.random.uniform((seq_len, d_model))\n",
        "\n",
        "encoder_layer = EncoderLayer(d_model, num_heads, d_ff)\n",
        "decoder_layer = DecoderLayer(d_model, num_heads, d_ff)\n",
        "\n",
        "encoder_output = encoder_layer(input_data)\n",
        "decoder_output = decoder_layer(input_data, encoder_output)\n",
        "\n",
        "# Output\n",
        "print(\"Encoder output shape:\", encoder_output.shape)\n",
        "print(\"Decoder output shape:\", decoder_output.shape)"
      ],
      "metadata": {
        "colab": {
          "base_uri": "https://localhost:8080/"
        },
        "id": "9YSAcPOTZJD0",
        "outputId": "5d84109e-a9cf-4f11-ca42-a248882dd0aa"
      },
      "execution_count": null,
      "outputs": [
        {
          "output_type": "stream",
          "name": "stdout",
          "text": [
            "Encoder output shape: (10, 512)\n",
            "Decoder output shape: (10, 512)\n"
          ]
        }
      ]
    }
  ]
}